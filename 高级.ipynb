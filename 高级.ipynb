{
 "cells": [
  {
   "cell_type": "code",
   "execution_count": 46,
   "metadata": {
    "collapsed": false
   },
   "outputs": [],
   "source": [
    "import numpy as np\n",
    "import pandas as pd\n",
    "import scipy as sp\n",
    "from sklearn import preprocessing\n",
    "from sklearn.cross_validation import KFold\n",
    "from sklearn.linear_model import LogisticRegression\n",
    "from sklearn.metrics import roc_curve,auc,log_loss\n",
    "from sklearn.ensemble import GradientBoostingClassifier\n",
    "from sklearn.cross_validation import train_test_split\n",
    "import matplotlib\n",
    "import matplotlib.pyplot as plt\n",
    "\n",
    "import csv\n",
    "import itertools\n",
    "import os\n",
    "import random\n",
    "\n",
    "from collections import Counter\n",
    "from math import *\n",
    "\n",
    "from sklearn.feature_extraction import DictVectorizer\n",
    "from sklearn.preprocessing import LabelBinarizer\n",
    "\n",
    "train_file = 'original data\\\\original_train.csv'\n",
    "test_ids_file = 'original data\\\\original_test.csv'\n",
    "output_file = 'predictions.csv'"
   ]
  },
  {
   "cell_type": "code",
   "execution_count": 47,
   "metadata": {
    "collapsed": false
   },
   "outputs": [
    {
     "name": "stdout",
     "output_type": "stream",
     "text": [
      "{'timestamp': '1', 'id': '00005408fb82819bf6eef036180ce1d28ca64ac455378824a882a80ed8f99bb6', 'event': '36003'}\n",
      "703331\n",
      "{'id': '0001da55d168196bf25f06a497b5cf414126542f4d357d61b8203d3b2c9eb4e5'}\n",
      "100870\n"
     ]
    }
   ],
   "source": [
    "# read in data\n",
    "with open(train_file) as file:\n",
    "    reader = csv.DictReader(file, delimiter=',')\n",
    "    raw_data = [row for row in reader]\n",
    "print(raw_data[0])\n",
    "print(len(raw_data))\n",
    "\n",
    "with open(test_ids_file) as file:\n",
    "    reader = csv.DictReader(file, delimiter=',')\n",
    "    test_ids_data = [row for row in reader]\n",
    "print(test_ids_data[0])\n",
    "print(len(test_ids_data))"
   ]
  },
  {
   "cell_type": "code",
   "execution_count": 48,
   "metadata": {
    "collapsed": false
   },
   "outputs": [],
   "source": [
    "# split test and train rows\n",
    "test_id_set = set([i['id'] for i in test_ids_data])\n",
    "raw_train_data = raw_data \n",
    "raw_test_data = [i for i in raw_data if i['id'] in test_id_set]\n"
   ]
  },
  {
   "cell_type": "code",
   "execution_count": 49,
   "metadata": {
    "collapsed": false
   },
   "outputs": [
    {
     "name": "stdout",
     "output_type": "stream",
     "text": [
      "{'timestamp': '1', 'id': '00005408fb82819bf6eef036180ce1d28ca64ac455378824a882a80ed8f99bb6', 'event': '36003'}\n",
      "{'timestamp': '2', 'id': '00005408fb82819bf6eef036180ce1d28ca64ac455378824a882a80ed8f99bb6', 'event': '36003'}\n",
      "{'timestamp': '3', 'id': '00005408fb82819bf6eef036180ce1d28ca64ac455378824a882a80ed8f99bb6', 'event': '30018'}\n",
      "{'timestamp': '26', 'id': '0001da55d168196bf25f06a497b5cf414126542f4d357d61b8203d3b2c9eb4e5', 'event': '30018'}\n",
      "{'timestamp': '27', 'id': '0001da55d168196bf25f06a497b5cf414126542f4d357d61b8203d3b2c9eb4e5', 'event': '30021'}\n",
      "{'timestamp': '39', 'id': '00024eca1053d4268df5c6d3308f0d008cf5e2678c443f46f83dd8a7714462c6', 'event': '30027'}\n"
     ]
    }
   ],
   "source": [
    "# sort by id, then timestamp\n",
    "sorted_raw_train_data = sorted(raw_train_data, key = lambda x: (x['id'], int(x['timestamp'])))\n",
    "for i in range(3):\n",
    "    print sorted_raw_train_data[i]\n",
    "    \n",
    "sorted_raw_test_data = sorted(raw_test_data, key = lambda x: (x['id'], int(x['timestamp'])))\n",
    "for i in range(3):\n",
    "    print sorted_raw_test_data[i]"
   ]
  },
  {
   "cell_type": "code",
   "execution_count": 50,
   "metadata": {
    "collapsed": false
   },
   "outputs": [
    {
     "name": "stdout",
     "output_type": "stream",
     "text": [
      "Counter({3: 107221, 4: 39512, 2: 39466, 5: 14718, 6: 5939, 7: 2409, 8: 994, 9: 499, 10: 234, 11: 153, 12: 73, 13: 37, 14: 22, 16: 9, 15: 6, 17: 3, 19: 3, 21: 3, 18: 1, 23: 1, 24: 1})\n",
      "Counter({2: 39466, 3: 14718, 4: 5397, 5: 2219, 6: 879, 7: 394, 8: 165, 9: 76, 10: 47, 11: 33, 12: 14, 13: 8, 14: 4, 15: 2, 16: 2, 17: 2})\n"
     ]
    }
   ],
   "source": [
    "# count number of events by id\n",
    "row_counts = [len(list(g)) for k,g in itertools.groupby(sorted_raw_train_data, key = lambda x: x['id'])]\n",
    "print Counter(row_counts)\n",
    "# all training ids have at least 3 records\n",
    "\n",
    "row_counts = [len(list(g)) for k,g in itertools.groupby(sorted_raw_test_data, key = lambda x: x['id'])]\n",
    "print Counter(row_counts)\n",
    "# all test ids have at least 2 records"
   ]
  },
  {
   "cell_type": "code",
   "execution_count": 51,
   "metadata": {
    "collapsed": false
   },
   "outputs": [],
   "source": [
    "# group by id and construct the target variable and some predictors\n",
    "# fields = 'id', 'num_events', first_event', 'last_event', last_event_timestamp', 'target_event'\n",
    "\n",
    "def construct_features(rows, make_target = False):\n",
    "    grouped_data = []\n",
    "    for key, g in itertools.groupby(rows, key = lambda x: x['id']):\n",
    "        group = list(g)\n",
    "        if make_target == True:\n",
    "            target_record = group.pop(-1)\n",
    "        output_record = {'id':key, 'num_events':len(group),\n",
    "                         'num_events_30018': sum([i['event']==30018 for i in group]),\n",
    "                         'num_events_30021': sum([i['event']==30021 for i in group]),\n",
    "                         'num_events_30024': sum([i['event']==30024 for i in group]),\n",
    "                         'num_events_30027': sum([i['event']==30027 for i in group]),\n",
    "                         'num_events_30039': sum([i['event']==30039 for i in group]),\n",
    "                         'num_events_30042': sum([i['event']==30042 for i in group]),\n",
    "                         'num_events_30045': sum([i['event']==30045 for i in group]),\n",
    "                         'num_events_30048': sum([i['event']==30048 for i in group]),\n",
    "                         'num_events_36003': sum([i['event']==36003 for i in group]),\n",
    "                         'num_events_45003': sum([i['event']==45003 for i in group])}\n",
    "        output_record['first_event'] = group[0]['event']\n",
    "        output_record['last_event'] = group[-1]['event']\n",
    "        output_record['last_event_timestamp'] = group[-1]['timestamp']\n",
    "\n",
    "        if make_target == True:\n",
    "            output_record['target_event'] = target_record['event']\n",
    "        else:\n",
    "            output_record['target_event'] = 'NA'\n",
    "        grouped_data.append(output_record)\n",
    "    return grouped_data"
   ]
  },
  {
   "cell_type": "code",
   "execution_count": 52,
   "metadata": {
    "collapsed": false
   },
   "outputs": [
    {
     "name": "stdout",
     "output_type": "stream",
     "text": [
      "{'num_events_45003': 0, 'last_event_timestamp': '3', 'num_events': 3, 'first_event': '36003', 'num_events_36003': 0, 'id': '00005408fb82819bf6eef036180ce1d28ca64ac455378824a882a80ed8f99bb6', 'target_event': '36003', 'num_events_30048': 0, 'last_event': '30018', 'num_events_30045': 0, 'num_events_30042': 0, 'num_events_30024': 0, 'num_events_30027': 0, 'num_events_30018': 0, 'num_events_30039': 0, 'num_events_30021': 0}\n",
      "{'num_events_45003': 0, 'last_event_timestamp': '27', 'num_events': 2, 'first_event': '30018', 'num_events_36003': 0, 'id': '0001da55d168196bf25f06a497b5cf414126542f4d357d61b8203d3b2c9eb4e5', 'target_event': 'NA', 'num_events_30048': 0, 'last_event': '30021', 'num_events_30045': 0, 'num_events_30042': 0, 'num_events_30024': 0, 'num_events_30027': 0, 'num_events_30018': 0, 'num_events_30039': 0, 'num_events_30021': 0}\n"
     ]
    }
   ],
   "source": [
    "train_data = construct_features(sorted_raw_train_data, make_target=True)\n",
    "print train_data[0]\n",
    "\n",
    "test_data = construct_features(sorted_raw_test_data, make_target=False)\n",
    "print test_data[0]"
   ]
  },
  {
   "cell_type": "code",
   "execution_count": 53,
   "metadata": {
    "collapsed": true
   },
   "outputs": [],
   "source": [
    "train_df = pd.DataFrame(train_data)\n",
    "test_df = pd.DataFrame(test_data)"
   ]
  },
  {
   "cell_type": "code",
   "execution_count": 54,
   "metadata": {
    "collapsed": false
   },
   "outputs": [
    {
     "data": {
      "text/html": [
       "<div>\n",
       "<table border=\"1\" class=\"dataframe\">\n",
       "  <thead>\n",
       "    <tr style=\"text-align: right;\">\n",
       "      <th></th>\n",
       "      <th>first_event</th>\n",
       "      <th>id</th>\n",
       "      <th>last_event</th>\n",
       "      <th>last_event_timestamp</th>\n",
       "      <th>num_events</th>\n",
       "      <th>num_events_30018</th>\n",
       "      <th>num_events_30021</th>\n",
       "      <th>num_events_30024</th>\n",
       "      <th>num_events_30027</th>\n",
       "      <th>num_events_30039</th>\n",
       "      <th>num_events_30042</th>\n",
       "      <th>num_events_30045</th>\n",
       "      <th>num_events_30048</th>\n",
       "      <th>num_events_36003</th>\n",
       "      <th>num_events_45003</th>\n",
       "      <th>target_event</th>\n",
       "    </tr>\n",
       "  </thead>\n",
       "  <tbody>\n",
       "    <tr>\n",
       "      <th>0</th>\n",
       "      <td>36003</td>\n",
       "      <td>00005408fb82819bf6eef036180ce1d28ca64ac4553788...</td>\n",
       "      <td>30018</td>\n",
       "      <td>3</td>\n",
       "      <td>3</td>\n",
       "      <td>0</td>\n",
       "      <td>0</td>\n",
       "      <td>0</td>\n",
       "      <td>0</td>\n",
       "      <td>0</td>\n",
       "      <td>0</td>\n",
       "      <td>0</td>\n",
       "      <td>0</td>\n",
       "      <td>0</td>\n",
       "      <td>0</td>\n",
       "      <td>36003</td>\n",
       "    </tr>\n",
       "    <tr>\n",
       "      <th>1</th>\n",
       "      <td>30021</td>\n",
       "      <td>000061e45fb216f4ad7fbc0cd86f620441a3091005eeb6...</td>\n",
       "      <td>30027</td>\n",
       "      <td>6</td>\n",
       "      <td>2</td>\n",
       "      <td>0</td>\n",
       "      <td>0</td>\n",
       "      <td>0</td>\n",
       "      <td>0</td>\n",
       "      <td>0</td>\n",
       "      <td>0</td>\n",
       "      <td>0</td>\n",
       "      <td>0</td>\n",
       "      <td>0</td>\n",
       "      <td>0</td>\n",
       "      <td>30042</td>\n",
       "    </tr>\n",
       "    <tr>\n",
       "      <th>2</th>\n",
       "      <td>30024</td>\n",
       "      <td>00008faca7acd5b2edf91b274eedc88e90b1de3b4003f9...</td>\n",
       "      <td>30039</td>\n",
       "      <td>9</td>\n",
       "      <td>2</td>\n",
       "      <td>0</td>\n",
       "      <td>0</td>\n",
       "      <td>0</td>\n",
       "      <td>0</td>\n",
       "      <td>0</td>\n",
       "      <td>0</td>\n",
       "      <td>0</td>\n",
       "      <td>0</td>\n",
       "      <td>0</td>\n",
       "      <td>0</td>\n",
       "      <td>30018</td>\n",
       "    </tr>\n",
       "    <tr>\n",
       "      <th>3</th>\n",
       "      <td>30027</td>\n",
       "      <td>0000b953a8b26886a7086673d8d1b7bd78efe139775728...</td>\n",
       "      <td>30018</td>\n",
       "      <td>16</td>\n",
       "      <td>6</td>\n",
       "      <td>0</td>\n",
       "      <td>0</td>\n",
       "      <td>0</td>\n",
       "      <td>0</td>\n",
       "      <td>0</td>\n",
       "      <td>0</td>\n",
       "      <td>0</td>\n",
       "      <td>0</td>\n",
       "      <td>0</td>\n",
       "      <td>0</td>\n",
       "      <td>30042</td>\n",
       "    </tr>\n",
       "    <tr>\n",
       "      <th>4</th>\n",
       "      <td>36003</td>\n",
       "      <td>00015a0e069313122a1e4043c63625839dcb634b7de275...</td>\n",
       "      <td>30027</td>\n",
       "      <td>20</td>\n",
       "      <td>3</td>\n",
       "      <td>0</td>\n",
       "      <td>0</td>\n",
       "      <td>0</td>\n",
       "      <td>0</td>\n",
       "      <td>0</td>\n",
       "      <td>0</td>\n",
       "      <td>0</td>\n",
       "      <td>0</td>\n",
       "      <td>0</td>\n",
       "      <td>0</td>\n",
       "      <td>30024</td>\n",
       "    </tr>\n",
       "  </tbody>\n",
       "</table>\n",
       "</div>"
      ],
      "text/plain": [
       "  first_event                                                 id last_event  \\\n",
       "0       36003  00005408fb82819bf6eef036180ce1d28ca64ac4553788...      30018   \n",
       "1       30021  000061e45fb216f4ad7fbc0cd86f620441a3091005eeb6...      30027   \n",
       "2       30024  00008faca7acd5b2edf91b274eedc88e90b1de3b4003f9...      30039   \n",
       "3       30027  0000b953a8b26886a7086673d8d1b7bd78efe139775728...      30018   \n",
       "4       36003  00015a0e069313122a1e4043c63625839dcb634b7de275...      30027   \n",
       "\n",
       "  last_event_timestamp  num_events  num_events_30018  num_events_30021  \\\n",
       "0                    3           3                 0                 0   \n",
       "1                    6           2                 0                 0   \n",
       "2                    9           2                 0                 0   \n",
       "3                   16           6                 0                 0   \n",
       "4                   20           3                 0                 0   \n",
       "\n",
       "   num_events_30024  num_events_30027  num_events_30039  num_events_30042  \\\n",
       "0                 0                 0                 0                 0   \n",
       "1                 0                 0                 0                 0   \n",
       "2                 0                 0                 0                 0   \n",
       "3                 0                 0                 0                 0   \n",
       "4                 0                 0                 0                 0   \n",
       "\n",
       "   num_events_30045  num_events_30048  num_events_36003  num_events_45003  \\\n",
       "0                 0                 0                 0                 0   \n",
       "1                 0                 0                 0                 0   \n",
       "2                 0                 0                 0                 0   \n",
       "3                 0                 0                 0                 0   \n",
       "4                 0                 0                 0                 0   \n",
       "\n",
       "  target_event  \n",
       "0        36003  \n",
       "1        30042  \n",
       "2        30018  \n",
       "3        30042  \n",
       "4        30024  "
      ]
     },
     "execution_count": 54,
     "metadata": {},
     "output_type": "execute_result"
    }
   ],
   "source": [
    "train_df.head()"
   ]
  },
  {
   "cell_type": "code",
   "execution_count": 55,
   "metadata": {
    "collapsed": false
   },
   "outputs": [
    {
     "data": {
      "text/html": [
       "<div>\n",
       "<table border=\"1\" class=\"dataframe\">\n",
       "  <thead>\n",
       "    <tr style=\"text-align: right;\">\n",
       "      <th></th>\n",
       "      <th>first_event</th>\n",
       "      <th>id</th>\n",
       "      <th>last_event</th>\n",
       "      <th>last_event_timestamp</th>\n",
       "      <th>num_events</th>\n",
       "      <th>num_events_30018</th>\n",
       "      <th>num_events_30021</th>\n",
       "      <th>num_events_30024</th>\n",
       "      <th>num_events_30027</th>\n",
       "      <th>num_events_30039</th>\n",
       "      <th>num_events_30042</th>\n",
       "      <th>num_events_30045</th>\n",
       "      <th>num_events_30048</th>\n",
       "      <th>num_events_36003</th>\n",
       "      <th>num_events_45003</th>\n",
       "    </tr>\n",
       "  </thead>\n",
       "  <tbody>\n",
       "    <tr>\n",
       "      <th>0</th>\n",
       "      <td>30018</td>\n",
       "      <td>0001da55d168196bf25f06a497b5cf414126542f4d357d...</td>\n",
       "      <td>30021</td>\n",
       "      <td>27</td>\n",
       "      <td>2</td>\n",
       "      <td>0</td>\n",
       "      <td>0</td>\n",
       "      <td>0</td>\n",
       "      <td>0</td>\n",
       "      <td>0</td>\n",
       "      <td>0</td>\n",
       "      <td>0</td>\n",
       "      <td>0</td>\n",
       "      <td>0</td>\n",
       "      <td>0</td>\n",
       "    </tr>\n",
       "    <tr>\n",
       "      <th>1</th>\n",
       "      <td>30027</td>\n",
       "      <td>00024eca1053d4268df5c6d3308f0d008cf5e2678c443f...</td>\n",
       "      <td>30018</td>\n",
       "      <td>40</td>\n",
       "      <td>2</td>\n",
       "      <td>0</td>\n",
       "      <td>0</td>\n",
       "      <td>0</td>\n",
       "      <td>0</td>\n",
       "      <td>0</td>\n",
       "      <td>0</td>\n",
       "      <td>0</td>\n",
       "      <td>0</td>\n",
       "      <td>0</td>\n",
       "      <td>0</td>\n",
       "    </tr>\n",
       "    <tr>\n",
       "      <th>2</th>\n",
       "      <td>45003</td>\n",
       "      <td>000273e55809afd4a9ac4fb9175effe5d0ea449ed37e7c...</td>\n",
       "      <td>45003</td>\n",
       "      <td>43</td>\n",
       "      <td>2</td>\n",
       "      <td>0</td>\n",
       "      <td>0</td>\n",
       "      <td>0</td>\n",
       "      <td>0</td>\n",
       "      <td>0</td>\n",
       "      <td>0</td>\n",
       "      <td>0</td>\n",
       "      <td>0</td>\n",
       "      <td>0</td>\n",
       "      <td>0</td>\n",
       "    </tr>\n",
       "    <tr>\n",
       "      <th>3</th>\n",
       "      <td>30018</td>\n",
       "      <td>0002bd1d73c326ad6e337a5687f6787b055f13079d5c52...</td>\n",
       "      <td>30027</td>\n",
       "      <td>47</td>\n",
       "      <td>3</td>\n",
       "      <td>0</td>\n",
       "      <td>0</td>\n",
       "      <td>0</td>\n",
       "      <td>0</td>\n",
       "      <td>0</td>\n",
       "      <td>0</td>\n",
       "      <td>0</td>\n",
       "      <td>0</td>\n",
       "      <td>0</td>\n",
       "      <td>0</td>\n",
       "    </tr>\n",
       "    <tr>\n",
       "      <th>4</th>\n",
       "      <td>30018</td>\n",
       "      <td>00030b6d5b8013bcb9bb23a9bccf394d7b361a01d0d6b7...</td>\n",
       "      <td>30027</td>\n",
       "      <td>55</td>\n",
       "      <td>3</td>\n",
       "      <td>0</td>\n",
       "      <td>0</td>\n",
       "      <td>0</td>\n",
       "      <td>0</td>\n",
       "      <td>0</td>\n",
       "      <td>0</td>\n",
       "      <td>0</td>\n",
       "      <td>0</td>\n",
       "      <td>0</td>\n",
       "      <td>0</td>\n",
       "    </tr>\n",
       "  </tbody>\n",
       "</table>\n",
       "</div>"
      ],
      "text/plain": [
       "  first_event                                                 id last_event  \\\n",
       "0       30018  0001da55d168196bf25f06a497b5cf414126542f4d357d...      30021   \n",
       "1       30027  00024eca1053d4268df5c6d3308f0d008cf5e2678c443f...      30018   \n",
       "2       45003  000273e55809afd4a9ac4fb9175effe5d0ea449ed37e7c...      45003   \n",
       "3       30018  0002bd1d73c326ad6e337a5687f6787b055f13079d5c52...      30027   \n",
       "4       30018  00030b6d5b8013bcb9bb23a9bccf394d7b361a01d0d6b7...      30027   \n",
       "\n",
       "  last_event_timestamp  num_events  num_events_30018  num_events_30021  \\\n",
       "0                   27           2                 0                 0   \n",
       "1                   40           2                 0                 0   \n",
       "2                   43           2                 0                 0   \n",
       "3                   47           3                 0                 0   \n",
       "4                   55           3                 0                 0   \n",
       "\n",
       "   num_events_30024  num_events_30027  num_events_30039  num_events_30042  \\\n",
       "0                 0                 0                 0                 0   \n",
       "1                 0                 0                 0                 0   \n",
       "2                 0                 0                 0                 0   \n",
       "3                 0                 0                 0                 0   \n",
       "4                 0                 0                 0                 0   \n",
       "\n",
       "   num_events_30045  num_events_30048  num_events_36003  num_events_45003  \n",
       "0                 0                 0                 0                 0  \n",
       "1                 0                 0                 0                 0  \n",
       "2                 0                 0                 0                 0  \n",
       "3                 0                 0                 0                 0  \n",
       "4                 0                 0                 0                 0  "
      ]
     },
     "execution_count": 55,
     "metadata": {},
     "output_type": "execute_result"
    }
   ],
   "source": [
    "test_df = test_df.drop('target_event', 1)\n",
    "test_df.head()"
   ]
  },
  {
   "cell_type": "markdown",
   "metadata": {},
   "source": [
    "# Model"
   ]
  },
  {
   "cell_type": "code",
   "execution_count": 45,
   "metadata": {
    "collapsed": true
   },
   "outputs": [],
   "source": [
    "predictors = ['num_events', 'first_event', 'last_event','num_events_30048', 'num_events_30045', \n",
    "              'num_events_30042', 'num_events_30024', 'num_events_30027', 'num_events_30018',\n",
    "              'num_events_30039', 'num_events_30021']\n",
    "target = 'target_event'"
   ]
  },
  {
   "cell_type": "code",
   "execution_count": 56,
   "metadata": {
    "collapsed": true
   },
   "outputs": [],
   "source": [
    "x_df = train_df[predictors]\n",
    "y_df = train_df[target]"
   ]
  },
  {
   "cell_type": "code",
   "execution_count": 57,
   "metadata": {
    "collapsed": false
   },
   "outputs": [
    {
     "name": "stderr",
     "output_type": "stream",
     "text": [
      "C:\\ProgramData\\Anaconda2\\lib\\site-packages\\pandas\\core\\indexing.py:477: SettingWithCopyWarning: \n",
      "A value is trying to be set on a copy of a slice from a DataFrame.\n",
      "Try using .loc[row_indexer,col_indexer] = value instead\n",
      "\n",
      "See the caveats in the documentation: http://pandas.pydata.org/pandas-docs/stable/indexing.html#indexing-view-versus-copy\n",
      "  self.obj[item] = s\n",
      "C:\\ProgramData\\Anaconda2\\lib\\site-packages\\pandas\\core\\indexing.py:561: SettingWithCopyWarning: \n",
      "A value is trying to be set on a copy of a slice from a DataFrame.\n",
      "Try using .loc[row_indexer,col_indexer] = value instead\n",
      "\n",
      "See the caveats in the documentation: http://pandas.pydata.org/pandas-docs/stable/indexing.html#indexing-view-versus-copy\n",
      "  self.obj[item_labels[indexer[info_axis]]] = value\n"
     ]
    }
   ],
   "source": [
    "encode = preprocessing.LabelEncoder()\n",
    "for column in x_df.columns:\n",
    "    x_df.loc[:, column] = encode.fit_transform(x_df[column])\n",
    "\n",
    "y_df = encode.fit_transform(y_df)"
   ]
  },
  {
   "cell_type": "code",
   "execution_count": 61,
   "metadata": {
    "collapsed": false
   },
   "outputs": [],
   "source": [
    "x = x_df.values\n",
    "y = y_df"
   ]
  },
  {
   "cell_type": "code",
   "execution_count": 62,
   "metadata": {
    "collapsed": true
   },
   "outputs": [],
   "source": [
    "def cv(x, y, model, n, model_name,mars=False):\n",
    "    k_folds = KFold(x.shape[0], n_folds=n, shuffle=True)\n",
    "    scores = []\n",
    "    loss_list = []\n",
    "    for train_indices, validation_indices in k_folds:\n",
    "        # Generate training data\n",
    "        x_train_cv = x[train_indices]\n",
    "        y_train_cv = y[train_indices]\n",
    "        # Generate validation data\n",
    "        x_validate = x[validation_indices]\n",
    "        y_validate = y[validation_indices]\n",
    "\n",
    "        # Fit model on training data\n",
    "        model.fit(x_train_cv, y_train_cv)\n",
    "        # Score on validation data\n",
    "        scores += [model.score(x_validate, y_validate)]\n",
    "        # log_loss on validation data\n",
    "        proba = model.predict_proba(x_validate)\n",
    "        loss_list += [log_loss(y_validate,proba)]\n",
    "\n",
    "    # Record and report accuracy\n",
    "    average_score = np.mean(scores)\n",
    "    average_log_loss = np.mean(loss_list)\n",
    "    \n",
    "    print \"Score:\", average_score\n",
    "    print \"Log_loss:\", average_log_loss\n",
    "\n",
    "    return average_score,average_log_loss"
   ]
  },
  {
   "cell_type": "code",
   "execution_count": 68,
   "metadata": {
    "collapsed": true
   },
   "outputs": [],
   "source": [
    "#Gradient Boosting Decision Tree\n",
    "gbdt = GradientBoostingClassifier(n_estimators=200,max_depth=5)"
   ]
  },
  {
   "cell_type": "code",
   "execution_count": null,
   "metadata": {
    "collapsed": false
   },
   "outputs": [],
   "source": [
    "gbdt_score, gbdt_log_loss = cv(x,y,gbdt,5,\"Gradient Boosting Decision Tree\")"
   ]
  },
  {
   "cell_type": "code",
   "execution_count": null,
   "metadata": {
    "collapsed": false
   },
   "outputs": [],
   "source": [
    "model = gbdt.fit(x, y)"
   ]
  },
  {
   "cell_type": "markdown",
   "metadata": {},
   "source": [
    "# 输出test结果"
   ]
  },
  {
   "cell_type": "code",
   "execution_count": null,
   "metadata": {
    "collapsed": false
   },
   "outputs": [],
   "source": [
    "user_id = test['id'].values"
   ]
  },
  {
   "cell_type": "code",
   "execution_count": null,
   "metadata": {
    "collapsed": true
   },
   "outputs": [],
   "source": [
    "x_test_df = test_df[predictors]\n",
    "encode = preprocessing.LabelEncoder()\n",
    "for column in x_test_df.columns:\n",
    "    x_test_df.loc[:, column] = encode.fit_transform(x_test_df[column])\n",
    "x_test = x_test_df.values"
   ]
  },
  {
   "cell_type": "code",
   "execution_count": null,
   "metadata": {
    "collapsed": true
   },
   "outputs": [],
   "source": [
    "test_proba = model.predict_proba(x_test)"
   ]
  },
  {
   "cell_type": "code",
   "execution_count": null,
   "metadata": {
    "collapsed": true
   },
   "outputs": [],
   "source": [
    "result = pd.DataFrame({'0id':user_id,'event_30018':test_proba[:,0],'event_30021':test_proba[:,1],'event_30024':test_proba[:,2],\n",
    "                       'event_30027':test_proba[:,3],'event_30039':test_proba[:,4],'event_30042':test_proba[:,5],'event_30045':test_proba[:,6],\n",
    "                       'event_30048':test_proba[:,7],'event_36003':test_proba[:,8],'event_45003':test_proba[:,9]})\n",
    "result.head()"
   ]
  },
  {
   "cell_type": "code",
   "execution_count": null,
   "metadata": {
    "collapsed": true
   },
   "outputs": [],
   "source": []
  }
 ],
 "metadata": {
  "kernelspec": {
   "display_name": "Python 2",
   "language": "python",
   "name": "python2"
  },
  "language_info": {
   "codemirror_mode": {
    "name": "ipython",
    "version": 2
   },
   "file_extension": ".py",
   "mimetype": "text/x-python",
   "name": "python",
   "nbconvert_exporter": "python",
   "pygments_lexer": "ipython2",
   "version": "2.7.13"
  }
 },
 "nbformat": 4,
 "nbformat_minor": 2
}
