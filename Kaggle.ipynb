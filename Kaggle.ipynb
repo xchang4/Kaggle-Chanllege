{
 "cells": [
  {
   "cell_type": "code",
   "execution_count": 78,
   "metadata": {
    "collapsed": false
   },
   "outputs": [],
   "source": [
    "import numpy as np\n",
    "import pandas as pd\n",
    "import scipy as sp\n",
    "from sklearn import preprocessing\n",
    "from sklearn.cross_validation import KFold\n",
    "from sklearn.linear_model import LogisticRegression\n",
    "from sklearn.metrics import roc_curve,auc,log_loss\n",
    "from sklearn.ensemble import GradientBoostingClassifier\n",
    "from sklearn.cross_validation import train_test_split\n",
    "from sklearn.neighbors import KNeighborsClassifier\n",
    "import matplotlib\n",
    "import matplotlib.pyplot as plt\n",
    "import warnings\n",
    "warnings.filterwarnings('ignore') #为了整洁，去除弹出的warnings\n",
    "pd.set_option('precision', 5) #设置精度\n",
    "pd.set_option('display.float_format', lambda x: '%.5f' % x) #为了直观的显示数字，不采用科学计数法\n",
    "%matplotlib inline"
   ]
  },
  {
   "cell_type": "code",
   "execution_count": 72,
   "metadata": {
    "collapsed": false
   },
   "outputs": [],
   "source": [
    "df = pd.read_csv(\"train.csv\")"
   ]
  },
  {
   "cell_type": "code",
   "execution_count": 73,
   "metadata": {
    "collapsed": false
   },
   "outputs": [],
   "source": [
    "df = df[~np.isnan(df['3'])]\n",
    "encode = preprocessing.LabelEncoder()\n",
    "for column in df.columns:\n",
    "    df.loc[:, column] = encode.fit_transform(df[column])"
   ]
  },
  {
   "cell_type": "code",
   "execution_count": 74,
   "metadata": {
    "collapsed": false
   },
   "outputs": [],
   "source": [
    "# 处理缺失值\n",
    "df = df.fillna(10)"
   ]
  },
  {
   "cell_type": "code",
   "execution_count": 75,
   "metadata": {
    "collapsed": false
   },
   "outputs": [
    {
     "name": "stdout",
     "output_type": "stream",
     "text": [
      "(171838L, 2L)\n",
      "(171838L,)\n"
     ]
    }
   ],
   "source": [
    "x = df.values[:,1:3]\n",
    "y = df.values[:,3]\n",
    "print x.shape\n",
    "print y.shape"
   ]
  },
  {
   "cell_type": "code",
   "execution_count": 11,
   "metadata": {
    "collapsed": false
   },
   "outputs": [],
   "source": [
    "#Gradient Boosting Decision Tree\n",
    "gbdt = GradientBoostingClassifier(n_estimators=200)"
   ]
  },
  {
   "cell_type": "code",
   "execution_count": 82,
   "metadata": {
    "collapsed": false
   },
   "outputs": [],
   "source": [
    "#knn\n",
    "knn = KNeighborsClassifier(n_neighbors=5)"
   ]
  },
  {
   "cell_type": "code",
   "execution_count": 80,
   "metadata": {
    "collapsed": true
   },
   "outputs": [],
   "source": [
    "def cv(x, y, model, n, model_name,mars=False):\n",
    "    k_folds = KFold(x.shape[0], n_folds=n, shuffle=True)\n",
    "    scores = []\n",
    "    loss_list = []\n",
    "    for train_indices, validation_indices in k_folds:\n",
    "        # Generate training data\n",
    "        x_train_cv = x[train_indices]\n",
    "        y_train_cv = y[train_indices]\n",
    "        # Generate validation data\n",
    "        x_validate = x[validation_indices]\n",
    "        y_validate = y[validation_indices]\n",
    "\n",
    "        # Fit model on training data\n",
    "        model.fit(x_train_cv, y_train_cv)\n",
    "        # Score on validation data\n",
    "        scores += [model.score(x_validate, y_validate)]\n",
    "        # log_loss on validation data\n",
    "        proba = model.predict_proba(x_validate)\n",
    "        loss_list += [log_loss(y_validate,proba)]\n",
    "\n",
    "    # Record and report accuracy\n",
    "    average_score = np.mean(scores)\n",
    "    average_log_loss = np.mean(loss_list)\n",
    "    \n",
    "    print \"Score:\", average_score\n",
    "    print \"Log_loss:\", average_log_loss\n",
    "\n",
    "    return average_score,average_log_loss"
   ]
  },
  {
   "cell_type": "code",
   "execution_count": 13,
   "metadata": {
    "collapsed": false
   },
   "outputs": [
    {
     "name": "stdout",
     "output_type": "stream",
     "text": [
      "Score: 0.461958337628\n",
      "Log_loss: 1.45617699281\n"
     ]
    }
   ],
   "source": [
    "gbdt_score, gbdt_log_loss = cv(x,y,gbdt,5,\"Gradient Boosting Decision Tree\")"
   ]
  },
  {
   "cell_type": "code",
   "execution_count": 83,
   "metadata": {
    "collapsed": false
   },
   "outputs": [
    {
     "name": "stdout",
     "output_type": "stream",
     "text": [
      "Score: 0.380858932519\n",
      "Log_loss: 10.1704633383\n"
     ]
    }
   ],
   "source": [
    "knn_score, knn_log_loss = cv(x,y,knn,5,\"KNN\")"
   ]
  },
  {
   "cell_type": "markdown",
   "metadata": {},
   "source": [
    "# 五个特征的模型"
   ]
  },
  {
   "cell_type": "code",
   "execution_count": 48,
   "metadata": {
    "collapsed": true
   },
   "outputs": [],
   "source": [
    "data5 = pd.read_csv('MICEimputedTrain.csv')"
   ]
  },
  {
   "cell_type": "code",
   "execution_count": 49,
   "metadata": {
    "collapsed": false
   },
   "outputs": [
    {
     "data": {
      "text/html": [
       "<div>\n",
       "<table border=\"1\" class=\"dataframe\">\n",
       "  <thead>\n",
       "    <tr style=\"text-align: right;\">\n",
       "      <th></th>\n",
       "      <th>id</th>\n",
       "      <th>5</th>\n",
       "      <th>4</th>\n",
       "      <th>3</th>\n",
       "      <th>2</th>\n",
       "      <th>1</th>\n",
       "    </tr>\n",
       "  </thead>\n",
       "  <tbody>\n",
       "    <tr>\n",
       "      <th>0</th>\n",
       "      <td>00005408fb82819bf6eef036180ce1d28ca64ac4553788...</td>\n",
       "      <td>1</td>\n",
       "      <td>2</td>\n",
       "      <td>1</td>\n",
       "      <td>1</td>\n",
       "      <td>0</td>\n",
       "    </tr>\n",
       "    <tr>\n",
       "      <th>1</th>\n",
       "      <td>000061e45fb216f4ad7fbc0cd86f620441a3091005eeb6...</td>\n",
       "      <td>5</td>\n",
       "      <td>4</td>\n",
       "      <td>3</td>\n",
       "      <td>2</td>\n",
       "      <td>0</td>\n",
       "    </tr>\n",
       "    <tr>\n",
       "      <th>2</th>\n",
       "      <td>00008faca7acd5b2edf91b274eedc88e90b1de3b4003f9...</td>\n",
       "      <td>2</td>\n",
       "      <td>7</td>\n",
       "      <td>6</td>\n",
       "      <td>3</td>\n",
       "      <td>0</td>\n",
       "    </tr>\n",
       "    <tr>\n",
       "      <th>3</th>\n",
       "      <td>0000b953a8b26886a7086673d8d1b7bd78efe139775728...</td>\n",
       "      <td>5</td>\n",
       "      <td>2</td>\n",
       "      <td>3</td>\n",
       "      <td>7</td>\n",
       "      <td>6</td>\n",
       "    </tr>\n",
       "    <tr>\n",
       "      <th>4</th>\n",
       "      <td>00015a0e069313122a1e4043c63625839dcb634b7de275...</td>\n",
       "      <td>6</td>\n",
       "      <td>4</td>\n",
       "      <td>3</td>\n",
       "      <td>1</td>\n",
       "      <td>0</td>\n",
       "    </tr>\n",
       "  </tbody>\n",
       "</table>\n",
       "</div>"
      ],
      "text/plain": [
       "                                                  id  5  4  3  2  1\n",
       "0  00005408fb82819bf6eef036180ce1d28ca64ac4553788...  1  2  1  1  0\n",
       "1  000061e45fb216f4ad7fbc0cd86f620441a3091005eeb6...  5  4  3  2  0\n",
       "2  00008faca7acd5b2edf91b274eedc88e90b1de3b4003f9...  2  7  6  3  0\n",
       "3  0000b953a8b26886a7086673d8d1b7bd78efe139775728...  5  2  3  7  6\n",
       "4  00015a0e069313122a1e4043c63625839dcb634b7de275...  6  4  3  1  0"
      ]
     },
     "execution_count": 49,
     "metadata": {},
     "output_type": "execute_result"
    }
   ],
   "source": [
    "data5.head()"
   ]
  },
  {
   "cell_type": "code",
   "execution_count": 67,
   "metadata": {
    "collapsed": true
   },
   "outputs": [],
   "source": [
    "data5 = data5[~np.isnan(data5['5'])]\n",
    "encode = preprocessing.LabelEncoder()\n",
    "for column in data5.columns:\n",
    "    data5.loc[:, column] = encode.fit_transform(data5[column])"
   ]
  },
  {
   "cell_type": "code",
   "execution_count": 70,
   "metadata": {
    "collapsed": false
   },
   "outputs": [
    {
     "name": "stdout",
     "output_type": "stream",
     "text": [
      "(337001L, 4L)\n",
      "(337001L,)\n"
     ]
    }
   ],
   "source": [
    "x5 = data5.values[:,2:6]\n",
    "y5 = data5.values[:,1]\n",
    "print x.shape\n",
    "print y.shape"
   ]
  },
  {
   "cell_type": "markdown",
   "metadata": {},
   "source": [
    "# 5个feature的test"
   ]
  },
  {
   "cell_type": "code",
   "execution_count": null,
   "metadata": {
    "collapsed": true
   },
   "outputs": [],
   "source": [
    "model5 = gbdt.fit(x5, y5)"
   ]
  },
  {
   "cell_type": "code",
   "execution_count": null,
   "metadata": {
    "collapsed": true
   },
   "outputs": [],
   "source": [
    "test5 = pd.read_csv('testdf.csv')"
   ]
  },
  {
   "cell_type": "code",
   "execution_count": null,
   "metadata": {
    "collapsed": true
   },
   "outputs": [],
   "source": [
    "test5.head()"
   ]
  },
  {
   "cell_type": "code",
   "execution_count": null,
   "metadata": {
    "collapsed": true
   },
   "outputs": [],
   "source": [
    "user_id = test5['id'].values"
   ]
  },
  {
   "cell_type": "code",
   "execution_count": null,
   "metadata": {
    "collapsed": true
   },
   "outputs": [],
   "source": [
    "encode = preprocessing.LabelEncoder()\n",
    "for column in test2.columns:\n",
    "    test2.loc[:, column] = encode.fit_transform(test2[column])"
   ]
  },
  {
   "cell_type": "markdown",
   "metadata": {},
   "source": [
    "# 2个Feature的test"
   ]
  },
  {
   "cell_type": "code",
   "execution_count": null,
   "metadata": {
    "collapsed": true
   },
   "outputs": [],
   "source": [
    "model2 = gbdt.fit(x, y)"
   ]
  },
  {
   "cell_type": "code",
   "execution_count": 37,
   "metadata": {
    "collapsed": true
   },
   "outputs": [],
   "source": [
    "test2 = pd.read_csv('test_feature2.csv')"
   ]
  },
  {
   "cell_type": "code",
   "execution_count": 38,
   "metadata": {
    "collapsed": false
   },
   "outputs": [
    {
     "data": {
      "text/html": [
       "<div>\n",
       "<table border=\"1\" class=\"dataframe\">\n",
       "  <thead>\n",
       "    <tr style=\"text-align: right;\">\n",
       "      <th></th>\n",
       "      <th>id</th>\n",
       "      <th>1</th>\n",
       "      <th>2</th>\n",
       "    </tr>\n",
       "  </thead>\n",
       "  <tbody>\n",
       "    <tr>\n",
       "      <th>0</th>\n",
       "      <td>0001da55d168196bf25f06a497b5cf414126542f4d357d...</td>\n",
       "      <td>30018.00000</td>\n",
       "      <td>30021.00000</td>\n",
       "    </tr>\n",
       "    <tr>\n",
       "      <th>1</th>\n",
       "      <td>00024eca1053d4268df5c6d3308f0d008cf5e2678c443f...</td>\n",
       "      <td>30027.00000</td>\n",
       "      <td>30018.00000</td>\n",
       "    </tr>\n",
       "    <tr>\n",
       "      <th>2</th>\n",
       "      <td>000273e55809afd4a9ac4fb9175effe5d0ea449ed37e7c...</td>\n",
       "      <td>45003.00000</td>\n",
       "      <td>45003.00000</td>\n",
       "    </tr>\n",
       "    <tr>\n",
       "      <th>3</th>\n",
       "      <td>0002bd1d73c326ad6e337a5687f6787b055f13079d5c52...</td>\n",
       "      <td>30021.00000</td>\n",
       "      <td>30027.00000</td>\n",
       "    </tr>\n",
       "    <tr>\n",
       "      <th>4</th>\n",
       "      <td>00030b6d5b8013bcb9bb23a9bccf394d7b361a01d0d6b7...</td>\n",
       "      <td>30021.00000</td>\n",
       "      <td>30027.00000</td>\n",
       "    </tr>\n",
       "  </tbody>\n",
       "</table>\n",
       "</div>"
      ],
      "text/plain": [
       "                                                  id           1           2\n",
       "0  0001da55d168196bf25f06a497b5cf414126542f4d357d... 30018.00000 30021.00000\n",
       "1  00024eca1053d4268df5c6d3308f0d008cf5e2678c443f... 30027.00000 30018.00000\n",
       "2  000273e55809afd4a9ac4fb9175effe5d0ea449ed37e7c... 45003.00000 45003.00000\n",
       "3  0002bd1d73c326ad6e337a5687f6787b055f13079d5c52... 30021.00000 30027.00000\n",
       "4  00030b6d5b8013bcb9bb23a9bccf394d7b361a01d0d6b7... 30021.00000 30027.00000"
      ]
     },
     "execution_count": 38,
     "metadata": {},
     "output_type": "execute_result"
    }
   ],
   "source": [
    "test2.head()"
   ]
  },
  {
   "cell_type": "code",
   "execution_count": 39,
   "metadata": {
    "collapsed": true
   },
   "outputs": [],
   "source": [
    "user_id = test2['id'].values"
   ]
  },
  {
   "cell_type": "code",
   "execution_count": 40,
   "metadata": {
    "collapsed": true
   },
   "outputs": [],
   "source": [
    "encode = preprocessing.LabelEncoder()\n",
    "for column in test2.columns:\n",
    "    test2.loc[:, column] = encode.fit_transform(test2[column])"
   ]
  },
  {
   "cell_type": "code",
   "execution_count": 41,
   "metadata": {
    "collapsed": true
   },
   "outputs": [],
   "source": [
    "# 处理缺失值\n",
    "test2 = test2.fillna(10)"
   ]
  },
  {
   "cell_type": "code",
   "execution_count": 42,
   "metadata": {
    "collapsed": false
   },
   "outputs": [
    {
     "data": {
      "text/plain": [
       "(100870L, 2L)"
      ]
     },
     "execution_count": 42,
     "metadata": {},
     "output_type": "execute_result"
    }
   ],
   "source": [
    "x2 = test2.values[:,1:3]\n",
    "x2.shape"
   ]
  },
  {
   "cell_type": "code",
   "execution_count": 43,
   "metadata": {
    "collapsed": true
   },
   "outputs": [],
   "source": [
    "proba2 = model2.predict_proba(x2)"
   ]
  },
  {
   "cell_type": "code",
   "execution_count": 44,
   "metadata": {
    "collapsed": false
   },
   "outputs": [
    {
     "data": {
      "text/html": [
       "<div>\n",
       "<table border=\"1\" class=\"dataframe\">\n",
       "  <thead>\n",
       "    <tr style=\"text-align: right;\">\n",
       "      <th></th>\n",
       "      <th>0id</th>\n",
       "      <th>event_30018</th>\n",
       "      <th>event_30021</th>\n",
       "      <th>event_30024</th>\n",
       "      <th>event_30027</th>\n",
       "      <th>event_30039</th>\n",
       "      <th>event_30042</th>\n",
       "      <th>event_30045</th>\n",
       "      <th>event_30048</th>\n",
       "      <th>event_36003</th>\n",
       "      <th>event_45003</th>\n",
       "    </tr>\n",
       "  </thead>\n",
       "  <tbody>\n",
       "    <tr>\n",
       "      <th>0</th>\n",
       "      <td>0001da55d168196bf25f06a497b5cf414126542f4d357d...</td>\n",
       "      <td>0.38830</td>\n",
       "      <td>0.13103</td>\n",
       "      <td>0.04427</td>\n",
       "      <td>0.14448</td>\n",
       "      <td>0.00481</td>\n",
       "      <td>0.00206</td>\n",
       "      <td>0.01512</td>\n",
       "      <td>0.00362</td>\n",
       "      <td>0.24130</td>\n",
       "      <td>0.02501</td>\n",
       "    </tr>\n",
       "    <tr>\n",
       "      <th>1</th>\n",
       "      <td>00024eca1053d4268df5c6d3308f0d008cf5e2678c443f...</td>\n",
       "      <td>0.05404</td>\n",
       "      <td>0.39319</td>\n",
       "      <td>0.41101</td>\n",
       "      <td>0.01704</td>\n",
       "      <td>0.00331</td>\n",
       "      <td>0.00109</td>\n",
       "      <td>0.00569</td>\n",
       "      <td>0.00230</td>\n",
       "      <td>0.10508</td>\n",
       "      <td>0.00726</td>\n",
       "    </tr>\n",
       "    <tr>\n",
       "      <th>2</th>\n",
       "      <td>000273e55809afd4a9ac4fb9175effe5d0ea449ed37e7c...</td>\n",
       "      <td>0.19868</td>\n",
       "      <td>0.12256</td>\n",
       "      <td>0.06731</td>\n",
       "      <td>0.01600</td>\n",
       "      <td>0.00224</td>\n",
       "      <td>0.00172</td>\n",
       "      <td>0.01943</td>\n",
       "      <td>0.02549</td>\n",
       "      <td>0.47916</td>\n",
       "      <td>0.06741</td>\n",
       "    </tr>\n",
       "    <tr>\n",
       "      <th>3</th>\n",
       "      <td>0002bd1d73c326ad6e337a5687f6787b055f13079d5c52...</td>\n",
       "      <td>0.14131</td>\n",
       "      <td>0.05557</td>\n",
       "      <td>0.02082</td>\n",
       "      <td>0.01488</td>\n",
       "      <td>0.00242</td>\n",
       "      <td>0.64118</td>\n",
       "      <td>0.01183</td>\n",
       "      <td>0.00587</td>\n",
       "      <td>0.09873</td>\n",
       "      <td>0.00740</td>\n",
       "    </tr>\n",
       "    <tr>\n",
       "      <th>4</th>\n",
       "      <td>00030b6d5b8013bcb9bb23a9bccf394d7b361a01d0d6b7...</td>\n",
       "      <td>0.14131</td>\n",
       "      <td>0.05557</td>\n",
       "      <td>0.02082</td>\n",
       "      <td>0.01488</td>\n",
       "      <td>0.00242</td>\n",
       "      <td>0.64118</td>\n",
       "      <td>0.01183</td>\n",
       "      <td>0.00587</td>\n",
       "      <td>0.09873</td>\n",
       "      <td>0.00740</td>\n",
       "    </tr>\n",
       "  </tbody>\n",
       "</table>\n",
       "</div>"
      ],
      "text/plain": [
       "                                                 0id  event_30018  \\\n",
       "0  0001da55d168196bf25f06a497b5cf414126542f4d357d...      0.38830   \n",
       "1  00024eca1053d4268df5c6d3308f0d008cf5e2678c443f...      0.05404   \n",
       "2  000273e55809afd4a9ac4fb9175effe5d0ea449ed37e7c...      0.19868   \n",
       "3  0002bd1d73c326ad6e337a5687f6787b055f13079d5c52...      0.14131   \n",
       "4  00030b6d5b8013bcb9bb23a9bccf394d7b361a01d0d6b7...      0.14131   \n",
       "\n",
       "   event_30021  event_30024  event_30027  event_30039  event_30042  \\\n",
       "0      0.13103      0.04427      0.14448      0.00481      0.00206   \n",
       "1      0.39319      0.41101      0.01704      0.00331      0.00109   \n",
       "2      0.12256      0.06731      0.01600      0.00224      0.00172   \n",
       "3      0.05557      0.02082      0.01488      0.00242      0.64118   \n",
       "4      0.05557      0.02082      0.01488      0.00242      0.64118   \n",
       "\n",
       "   event_30045  event_30048  event_36003  event_45003  \n",
       "0      0.01512      0.00362      0.24130      0.02501  \n",
       "1      0.00569      0.00230      0.10508      0.00726  \n",
       "2      0.01943      0.02549      0.47916      0.06741  \n",
       "3      0.01183      0.00587      0.09873      0.00740  \n",
       "4      0.01183      0.00587      0.09873      0.00740  "
      ]
     },
     "execution_count": 44,
     "metadata": {},
     "output_type": "execute_result"
    }
   ],
   "source": [
    "result = pd.DataFrame({'0id':user_id,'event_30018':proba2[:,0],'event_30021':proba2[:,1],'event_30024':proba2[:,2],\n",
    "                       'event_30027':proba2[:,3],'event_30039':proba2[:,4],'event_30042':proba2[:,5],'event_30045':proba2[:,6],\n",
    "                       'event_30048':proba2[:,7],'event_36003':proba2[:,8],'event_45003':proba2[:,9]})\n",
    "result.head()"
   ]
  },
  {
   "cell_type": "code",
   "execution_count": 45,
   "metadata": {
    "collapsed": true
   },
   "outputs": [],
   "source": [
    "result.to_csv('result_2feature.csv',index=False)"
   ]
  }
 ],
 "metadata": {
  "kernelspec": {
   "display_name": "Python 2",
   "language": "python",
   "name": "python2"
  },
  "language_info": {
   "codemirror_mode": {
    "name": "ipython",
    "version": 2
   },
   "file_extension": ".py",
   "mimetype": "text/x-python",
   "name": "python",
   "nbconvert_exporter": "python",
   "pygments_lexer": "ipython2",
   "version": "2.7.13"
  }
 },
 "nbformat": 4,
 "nbformat_minor": 2
}
